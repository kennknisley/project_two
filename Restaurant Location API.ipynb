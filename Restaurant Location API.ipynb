{
 "cells": [
  {
   "cell_type": "code",
   "execution_count": 1,
   "metadata": {},
   "outputs": [],
   "source": [
    "# Import dependencies\n",
    "import pandas as pd\n",
    "import json\n",
    "import pprint\n",
    "import requests\n",
    "import sys\n",
    "import urllib\n",
    "from config import yelp_key"
   ]
  },
  {
   "cell_type": "code",
   "execution_count": null,
   "metadata": {},
   "outputs": [],
   "source": [
    "# Set up the basics for calling the Yelp API\n",
    "# https://python.gotrained.com/yelp-fusion-api-tutorial/\n",
    "# Cities gathered from https://en.wikipedia.org/wiki/List_of_municipalities_in_Missouri\n",
    "api_key= yelp_key\n",
    "headers = {'Authorization':'Bearer %s' % api_key}\n",
    "url='https://api.yelp.com/v3/businesses/search'\n",
    "offset = [0,50,100,150,200,250,300,350,400,450,500,550,600,650,700,750,800,850,900]\n",
    "cities = [\"Kansas City MO\",\"St. Louis MO\",\"Springfield MO\",\"Independence MO\",\n",
    "          \"Columbia MO\",\"Lee's Summit MO\",\"O'Fallon MO\",\"St. Joseph MO\",\n",
    "          \"St. Charles MO\",\"Blue Springs MO\",\"St. Peters MO\",\"Florissant MO\",\n",
    "          \"Joplin MO\",\"Chesterfield MO\",\"Jefferson City MO\",\"Cape Girardeau MO\",\n",
    "          \"Oakville MO\",\"Wildwood MO\",\"University City MO\",\"Ballwin MO\",\"Raytown MO\",\n",
    "          \"Liberty MO\",\"Wentzville MO\",\"Mehlville MO\",\"Kirkwood MO\",\"Maryland Heights MO\",\n",
    "          \"Hazelwood MO\",\"Gladstone MO\",\"Grandview MO\",\"Belton MO\",\"Webster Groves MO\",\n",
    "          \"Sedalia MO\",\"Ferguson MO\",\"Arnold MO\",\"Affton MO\",\"Spanish Lake MO\",\n",
    "          \"Rolla MO\",\"Raymore MO\",\"Old Jamestown MO\",\"Nixa MO\",\"Warrensburg MO\",\n",
    "          \"Manchester MO\",\"Hannibal MO\",\"Creve Coeur MO\",\"Ozark MO\",\"Kirksville MO\",\n",
    "          \"Poplar Bluff MO\",\"Lemay MO\",\"Concord MO\",\"Sikeston MO\",\"Farmington MO\",\n",
    "          \"Overland MO\",\"Clayton MO\",\"Fort Leonard Wood MO\",\"Republican MO\",\n",
    "          \"Jennings MO\",\"Lake St. Louis MO\",\"Lebanon MO\",\"Carthage MO\",\n",
    "          \"Washington MO\",\"Moberly MO\",\"Jackson MO\",\"Marshall MO\",\n",
    "          \"St. Ann MO\",\"Grain Valley MO\",\"Fulton MO\",\"West Plains MO\",\n",
    "          \"Maryville MO\",\"Crestwood MO\",\"Neosho MO\",\"Festus MO\",\n",
    "          \"Bridgeton MO\",\"Mexico MO\",\"Dardenne Prairie MO\",\n",
    "          \"Excelsior Springs MO\",\"Webb City MO\",\"Kennett MO\",\n",
    "          \"Bellefontaine Neighbors MO\",\"Town and Country MO\",\n",
    "          \"Troy MO\",\"Branson MO\",\"Bolivar MO\",\"Union MO\",\"Eureka MO\",\n",
    "          \"Harrisonville MO\",\"Cameron MO\",\"Chillicothe MO\",\"Ellisville MO\",\"Clinton MO\",\n",
    "          \"Berkeley MO\",\"Monett MO\",\"Park Hills MO\",\"Murphy MO\",\"Richmond Heights MO\",\n",
    "          \"Ladue MO\",\"Sunset Hills MO\",\"Smithville MO\",\"Nevada MO\",\"Kearney MO\",\n",
    "          \"Des Peres MO\",\"Boonville MO\",\"Perryville MO\",\"Pleasant Hill MO\",\n",
    "          \"Brentwood MO\",\"Maplewood MO\",\"Warrenton MO\",\"Dexter MO\",\"Oak Grove MO\",\n",
    "          \"Olivette MO\",\"Sappington MO\",\"Aurora MO\",\"Carl Junction MO\",\"Sullivan MO\",\n",
    "          \"Pacific MO\",\"Valley Park MO\",\"Black Jack MO\",\"Bonne Terre MO\",\"Marshfield MO\",\n",
    "          \"St. John MO\",\"De Soto MO\",\"Shrewsbury MO\",\"Caruthersville MO\",\"Trenton MO\",\n",
    "          \"Charleston MO\",\"Glendale MO\",\"Richmond MO\",\"Barnhart MO\",\"Battlefield MO\",\n",
    "          \"Parkville MO\",\"Pevely MO\",\"Macon MO\",\"Weldon Spring MO\",\"Glasgow Village MO\",\n",
    "          \"Bowling Green MO\",\"Odessa MO\",\"Willard MO\",\"Greenwood MO\",\"Savannah MO\",\n",
    "          \"Desloge MO\",\"Dellwood MO\",\"Normandy MO\",\"Salem MO\",\"Crystal City MO\",\n",
    "          \"Waynesville MO\",\"Higginsville MO\",\"Mountain Grove MO\",\"Breckenridge Hills MO\",\n",
    "          \"Lexington MO\",\"St. Clair MO\",\"Imperial MO\",\"Platte City MO\",\"Rock Hill MO\",\n",
    "          \"Peculiar MO\",\"Mount Vernon MO\",\"Eldon MO\",\"Scott City MO\",\"Brookfield MO\",\n",
    "          \"Lamar MO\",\"Hollister MO\",\"Ste. Genevieve MO\",\"Osage Beach MO\",\"St. Robert MO\",\n",
    "          \"High Ridge MO\",\"California MO\",\"Malden MO\",\"Northwoods MO\",\"Butler MO\",\n",
    "          \"St. James MO\",\"North Kansas City MO\",\"Woodson Terrace MO\",\"Centralia MO\",\n",
    "          \"Fenton MO\",\"Fredericktown MO\",\"Castle Point MO\",\"Vandalia MO\",\"Carrollton MO\",\n",
    "          \"Camdenton MO\",\"Ashland MO\",\"Palmyra MO\",\"El Dorado Springs MO\",\"Frontenac MO\",\n",
    "          \"Herculaneum MO\",\"Louisiana MO\",\"Cuba MO\",\"Sugar Creek MO\",\"Pagedale MO\",\n",
    "          \"Bethany MO\",\"Pine Lawn MO\",\"Cassville MO\",\"Tipton MO\",\"Holts Summit MO\",\n",
    "          \"Portageville MO\",\"East Prairie MO\",\"Licking MO\",\"Wright City MO\",\n",
    "          \"New Madrid MO\",\"Buffalo MO\",\"Buckner MO\",\"Cottleville MO\",\"Rogersville MO\",\n",
    "          \"Ava MO\",\"Pleasant Valley MO\",\"Chaffee MO\",\"Hayti MO\",\"Riverside MO\",\n",
    "          \"Windsor MO\",\"Riverview MO\",\"Montgomery City MO\",\"Hillsboro MO\",\"Byrnes Mill MO\",\n",
    "          \"Bel-Ridge MO\",\"Mountain View MO\",\"Knob Noster MO\",\"Gray Summit MO\",\"Fayette MO\",\n",
    "          \"Owensville MO\",\"Potosi MO\",\"Villa Ridge MO\",\"Clarkson Valley MO\",\n",
    "          \"Green Park MO\",\"Whiteman AFB MO\",\"Monroe MO\",\"Moscow Mills MO\",\"Versailles MO\",\n",
    "          \"Lawson MO\",\"Concordia MO\",\"Country Club MO\",\"Moline Acres MO\",\"Hermann MO\",\n",
    "          \"Kimberling City MO\",\"Oronogo MO\",\"Canton MO\",\"Strafford MO\",\"Seneca MO\",\n",
    "          \"Terre du Lac MO\",\"Plattsburg MO\",\"Wellston MO\",\"Forsyth MO\",\"Holden MO\",\n",
    "          \"Thayer MO\",\"Marceline MO\",\"Marionville MO\",\"Village of Four Seasons MO\",\n",
    "          \"Willow Springs MO\",\"Marlborough MO\",\"Steele MO\",\"Cabool MO\",\"Clever MO\",\n",
    "          \"Granby MO\",\"Warsaw MO\",\"Hanley Hills MO\",\"New Haven MO\",\"Lathrop MO\",\n",
    "          \"Houston MO\",\"Kahoka MO\",\"Doniphan MO\",\"Campbell MO\",\"Piedmont MO\",\n",
    "          \"Warson Woods MO\",\"Anderson MO\",\"Milan MO\",\"Bernie MO\",\"Lake Lotawana MO\",\n",
    "          \"Elsberry MO\",\"Bloomfield MO\",\"Seymour MO\",\"Carterville MO\",\"Vinita Park MO\",\n",
    "          \"Unionville MO\",\"Richland MO\",\"Slater MO\",\"Noel MO\",\"St. Paul MO\",\"Memphis MO\",\n",
    "          \"Stockton MO\",\"Hamilton MO\",\"Gallatin MO\",\"Senath MO\",\"Duquesne MO\",\n",
    "          \"Merriam Woods MO\",\"Sparta MO\",\"Albany MO\",\"Weatherby Lake MO\",\n",
    "          \"Cedar Hill MO\",\"Shelbina MO\",\"Adrian MO\",\"Garden City MO\",\"Steelville MO\",\n",
    "          \"Weston MO\",\"Bourbon MO\",\"Salisbury MO\",\"Lake Ozark MO\",\"Tarkio MO\",\n",
    "          \"Huntsville MO\",\"LaBarque Creek MO\",\"Dixon MO\",\"Winchester MO\",\"Bismarck MO\",\n",
    "          \"Belle MO\",\"Gower MO\",\"Wardsville MO\",\"Bel-Nor MO\",\"Hallsville MO\",\n",
    "          \"Sweet Springs MO\",\"Hillsdale MO\",\"Marble Hill MO\",\"Ash Grove MO\",\"Crane MO\",\n",
    "          \"Ironton MO\",\"Linn MO\",\"Lakeshire MO\",\"Claycomo MO\",\"Velda City MO\",\n",
    "          \"Winfield MO\",\"Rich Hill MO\",\"Fair Grove MO\",\"Oakland MO\",\"Shell Knob MO\",\n",
    "          \"Greenfield MO\",\"La Plata MO\",\"Charlack MO\",\"Advance MO\",\"Gerald MO\",\n",
    "          \"St. George MO\",\"Winona MO\",\"Sarcoxie MO\",\"Rock Port MO\",\"Mansfield MO\",\n",
    "          \"Oran MO\",\"Calverton Park MO\",\"Pierce City MO\",\"Clarkton MO\",\"Leadwood MO\",\n",
    "          \"Country Club Hills MO\",\"Goodman MO\",\"Paris MO\",\"Wellsville MO\",\n",
    "          \"Cool Valley MO\",\"Lilbourn MO\",\"Lincoln MO\",\"Stanberry MO\",\"Edina MO\",\n",
    "          \"Archie MO\",\"Princeton MO\",\"Mound City MO\",\"La Monte MO\",\"Marthasville MO\",\n",
    "          \"Lake Winnebago MO\",\"Appleton City MO\",\"Cole Camp MO\",\"Duenweg MO\",\n",
    "          \"Maysville MO\",\"Crocker MO\",\"Kissee Mills MO\",\"Glasgow MO\",\"Purdy MO\",\n",
    "          \"Stover MO\",\"Gideon MO\",\"New Franklin MO\",\"Velda Village Hills MO\",\n",
    "          \"Lone Jack MO\",\"Humansville MO\",\"Billings MO\",\"King City MO\"]\n",
    "offset2 = [0,50,100]"
   ]
  },
  {
   "cell_type": "code",
   "execution_count": null,
   "metadata": {},
   "outputs": [],
   "source": [
    "# Set up empty lists to prepare for the API call\n",
    "restaurant_name = []\n",
    "restaurant_lat = []\n",
    "restaurant_lon = []\n",
    "restaurant_address = []\n",
    "restaurant_state = []\n",
    "loop_check = []\n",
    "response_number = 0"
   ]
  },
  {
   "cell_type": "code",
   "execution_count": null,
   "metadata": {},
   "outputs": [],
   "source": [
    "# Call the API - Put N/A instead of failing\n",
    "for y in cities:\n",
    "    response_number = 0\n",
    "    for x in offset2:\n",
    "        params = {'location':[y],'price':'1','term':'fast food','limit':50,'offset':[x]}\n",
    "        try:\n",
    "            req=requests.get(url, params=params, headers=headers)\n",
    "            response = req.json()\n",
    "            for x in response[\"businesses\"]:\n",
    "                #print(response[\"businesses\"][response_number][\"name\"])\n",
    "                #print(response[\"businesses\"][response_number][\"coordinates\"][\"latitude\"])\n",
    "                #print(response[\"businesses\"][response_number][\"coordinates\"][\"longitude\"])\n",
    "                try:\n",
    "                    restaurant_name.append(response[\"businesses\"][response_number][\"name\"])\n",
    "                except:\n",
    "                    restaurant_name.append(\"N/A\")\n",
    "\n",
    "                try:\n",
    "                    restaurant_lat.append(response[\"businesses\"][response_number][\"coordinates\"][\"latitude\"])\n",
    "                except:\n",
    "                    restaurant_lat.append(\"N/A\")\n",
    "\n",
    "                try:\n",
    "                    restaurant_lon.append(response[\"businesses\"][response_number][\"coordinates\"][\"longitude\"])\n",
    "                except:\n",
    "                    restaurant_lon.append(\"N/A\")\n",
    "\n",
    "                try:\n",
    "                    restaurant_address.append(response[\"businesses\"][response_number][\"location\"][\"display_address\"])\n",
    "                except:\n",
    "                    restaurant_address.append(\"N/A\")\n",
    "\n",
    "                try:\n",
    "                    restaurant_state.append(response[\"businesses\"][response_number][\"location\"][\"state\"])\n",
    "                    loop_check.append([y])\n",
    "                except:\n",
    "                    restaurant_state.append(\"N/A\")\n",
    "                    loop_check.append([y])\n",
    "\n",
    "                if response_number == 49:\n",
    "                    response_number = 0\n",
    "                else: \n",
    "                    response_number = response_number + 1\n",
    "        except:\n",
    "            restaurant_name.append(\"N/A\")\n",
    "            restaurant_lat.append(\"N/A\")\n",
    "            restaurant_lon.append(\"N/A\")\n",
    "            restaurant_address.append(\"N/A\")\n",
    "            restaurant_state.append(\"N/A\")"
   ]
  },
  {
   "cell_type": "code",
   "execution_count": null,
   "metadata": {},
   "outputs": [],
   "source": [
    "# Load into a dataframe\n",
    "# https://pandas.pydata.org/pandas-docs/stable/reference/api/pandas.DataFrame.html\n",
    "d = {'name':restaurant_name, 'latitude':restaurant_lat,'longitude':restaurant_lon,'address':restaurant_address,'state':restaurant_state,'loopcheck':loop_check}\n",
    "restaurant_df = pd.DataFrame(data=d)\n",
    "restaurant_df.count()"
   ]
  },
  {
   "cell_type": "code",
   "execution_count": null,
   "metadata": {},
   "outputs": [],
   "source": [
    "# Save to CSV\n",
    "restaurant_df.to_csv(\"restaurant_data.csv\",index=True,header=True)"
   ]
  },
  {
   "cell_type": "code",
   "execution_count": 2,
   "metadata": {},
   "outputs": [],
   "source": [
    "# Filter down to unique\n",
    "cleaned_restaurant_df = pd.read_csv(\"restaurant_data.csv\")\n",
    "cleaned_restaurant_df = cleaned_restaurant_df.drop_duplicates(subset= \"address\", keep = \"first\")"
   ]
  },
  {
   "cell_type": "code",
   "execution_count": 3,
   "metadata": {},
   "outputs": [],
   "source": [
    "cleaned_restaurant_df['address'] = cleaned_restaurant_df['address'].str.strip('[]')\n",
    "cleaned_restaurant_df['loopcheck'] = cleaned_restaurant_df['loopcheck'].str.strip('[]')\n",
    "cleaned_restaurant_df['address'] = cleaned_restaurant_df['address'].str.strip(\"'\")\n",
    "cleaned_restaurant_df['address'] = cleaned_restaurant_df['address'].str.replace(r\"[\\\"\\',]\", '')\n",
    "cleaned_restaurant_df['loopcheck'] = cleaned_restaurant_df['loopcheck'].str.replace(r\"[\\\"\\',]\", '')"
   ]
  },
  {
   "cell_type": "code",
   "execution_count": 4,
   "metadata": {},
   "outputs": [
    {
     "data": {
      "text/html": [
       "<div>\n",
       "<style scoped>\n",
       "    .dataframe tbody tr th:only-of-type {\n",
       "        vertical-align: middle;\n",
       "    }\n",
       "\n",
       "    .dataframe tbody tr th {\n",
       "        vertical-align: top;\n",
       "    }\n",
       "\n",
       "    .dataframe thead th {\n",
       "        text-align: right;\n",
       "    }\n",
       "</style>\n",
       "<table border=\"1\" class=\"dataframe\">\n",
       "  <thead>\n",
       "    <tr style=\"text-align: right;\">\n",
       "      <th></th>\n",
       "      <th>name</th>\n",
       "      <th>latitude</th>\n",
       "      <th>longitude</th>\n",
       "      <th>address</th>\n",
       "      <th>state</th>\n",
       "      <th>loopcheck</th>\n",
       "    </tr>\n",
       "  </thead>\n",
       "  <tbody>\n",
       "    <tr>\n",
       "      <td>0</td>\n",
       "      <td>Chick-fil-A</td>\n",
       "      <td>39.034420</td>\n",
       "      <td>-94.580956</td>\n",
       "      <td>5100 Cherry St Ste 216 Student Union Kansas Ci...</td>\n",
       "      <td>MO</td>\n",
       "      <td>Kansas City MO</td>\n",
       "    </tr>\n",
       "    <tr>\n",
       "      <td>1</td>\n",
       "      <td>Go-Chicken-Go</td>\n",
       "      <td>39.034152</td>\n",
       "      <td>-94.573045</td>\n",
       "      <td>5101 Troost Ave Kansas City MO 64110</td>\n",
       "      <td>MO</td>\n",
       "      <td>Kansas City MO</td>\n",
       "    </tr>\n",
       "    <tr>\n",
       "      <td>2</td>\n",
       "      <td>Raising Cane's Chicken Fingers</td>\n",
       "      <td>39.053248</td>\n",
       "      <td>-94.593906</td>\n",
       "      <td>4040 Mill St Kansas City MO 64111</td>\n",
       "      <td>MO</td>\n",
       "      <td>Kansas City MO</td>\n",
       "    </tr>\n",
       "    <tr>\n",
       "      <td>3</td>\n",
       "      <td>Unforked</td>\n",
       "      <td>39.082904</td>\n",
       "      <td>-94.582544</td>\n",
       "      <td>2450 Grand Blvd Kansas City MO 64108</td>\n",
       "      <td>MO</td>\n",
       "      <td>Kansas City MO</td>\n",
       "    </tr>\n",
       "    <tr>\n",
       "      <td>4</td>\n",
       "      <td>Harold's Drive-In</td>\n",
       "      <td>39.105160</td>\n",
       "      <td>-94.565260</td>\n",
       "      <td>1337 Admiral Blvd Kansas City MO 64106</td>\n",
       "      <td>MO</td>\n",
       "      <td>Kansas City MO</td>\n",
       "    </tr>\n",
       "  </tbody>\n",
       "</table>\n",
       "</div>"
      ],
      "text/plain": [
       "                             name   latitude  longitude  \\\n",
       "0                     Chick-fil-A  39.034420 -94.580956   \n",
       "1                   Go-Chicken-Go  39.034152 -94.573045   \n",
       "2  Raising Cane's Chicken Fingers  39.053248 -94.593906   \n",
       "3                        Unforked  39.082904 -94.582544   \n",
       "4               Harold's Drive-In  39.105160 -94.565260   \n",
       "\n",
       "                                             address state       loopcheck  \n",
       "0  5100 Cherry St Ste 216 Student Union Kansas Ci...    MO  Kansas City MO  \n",
       "1               5101 Troost Ave Kansas City MO 64110    MO  Kansas City MO  \n",
       "2                  4040 Mill St Kansas City MO 64111    MO  Kansas City MO  \n",
       "3               2450 Grand Blvd Kansas City MO 64108    MO  Kansas City MO  \n",
       "4             1337 Admiral Blvd Kansas City MO 64106    MO  Kansas City MO  "
      ]
     },
     "execution_count": 4,
     "metadata": {},
     "output_type": "execute_result"
    }
   ],
   "source": [
    "cleaned_restaurant_df = cleaned_restaurant_df.reset_index(drop=True)\n",
    "cleaned_restaurant_df = cleaned_restaurant_df.drop(columns=['Unnamed: 0'])\n",
    "cleaned_restaurant_df.head()"
   ]
  },
  {
   "cell_type": "code",
   "execution_count": 5,
   "metadata": {},
   "outputs": [
    {
     "data": {
      "text/plain": [
       "name         3080\n",
       "latitude     3080\n",
       "longitude    3080\n",
       "address      3080\n",
       "state        3080\n",
       "loopcheck    3080\n",
       "dtype: int64"
      ]
     },
     "execution_count": 5,
     "metadata": {},
     "output_type": "execute_result"
    }
   ],
   "source": [
    "cleaned_restaurant_df.count()"
   ]
  },
  {
   "cell_type": "code",
   "execution_count": 6,
   "metadata": {},
   "outputs": [
    {
     "data": {
      "text/plain": [
       "name         2440\n",
       "latitude     2440\n",
       "longitude    2440\n",
       "address      2440\n",
       "state        2440\n",
       "loopcheck    2440\n",
       "dtype: int64"
      ]
     },
     "execution_count": 6,
     "metadata": {},
     "output_type": "execute_result"
    }
   ],
   "source": [
    "cleaned_restaurant_df = cleaned_restaurant_df.loc[cleaned_restaurant_df[\"state\"]==\"MO\",:]\n",
    "cleaned_restaurant_df = cleaned_restaurant_df.reset_index(drop=True)\n",
    "cleaned_restaurant_df.count()"
   ]
  },
  {
   "cell_type": "code",
   "execution_count": 7,
   "metadata": {},
   "outputs": [],
   "source": [
    "cleaned_restaurant_df.to_csv(\"cleaned_restaurant_data.csv\", index = True, header = True)"
   ]
  },
  {
   "cell_type": "code",
   "execution_count": 8,
   "metadata": {},
   "outputs": [
    {
     "ename": "NameError",
     "evalue": "name 'create_engine' is not defined",
     "output_type": "error",
     "traceback": [
      "\u001b[1;31m---------------------------------------------------------------------------\u001b[0m",
      "\u001b[1;31mNameError\u001b[0m                                 Traceback (most recent call last)",
      "\u001b[1;32m<ipython-input-8-5522d254529a>\u001b[0m in \u001b[0;36m<module>\u001b[1;34m\u001b[0m\n\u001b[0;32m      1\u001b[0m \u001b[1;31m# Load data into Postgres\u001b[0m\u001b[1;33m\u001b[0m\u001b[1;33m\u001b[0m\u001b[1;33m\u001b[0m\u001b[0m\n\u001b[0;32m      2\u001b[0m \u001b[0mrds_connection_string\u001b[0m \u001b[1;33m=\u001b[0m \u001b[1;34m\"postgres@localhost:5433/ProjectTwoDB\"\u001b[0m\u001b[1;33m\u001b[0m\u001b[1;33m\u001b[0m\u001b[0m\n\u001b[1;32m----> 3\u001b[1;33m \u001b[0mengine\u001b[0m \u001b[1;33m=\u001b[0m \u001b[0mcreate_engine\u001b[0m\u001b[1;33m(\u001b[0m\u001b[1;34mf'postgresql://{rds_connection_string}'\u001b[0m\u001b[1;33m)\u001b[0m\u001b[1;33m\u001b[0m\u001b[1;33m\u001b[0m\u001b[0m\n\u001b[0m\u001b[0;32m      4\u001b[0m \u001b[0mrestaurant_df\u001b[0m\u001b[1;33m.\u001b[0m\u001b[0mto_sql\u001b[0m\u001b[1;33m(\u001b[0m\u001b[0mname\u001b[0m \u001b[1;33m=\u001b[0m \u001b[1;34m\"restaurant_data\"\u001b[0m\u001b[1;33m,\u001b[0m \u001b[0mcon\u001b[0m \u001b[1;33m=\u001b[0m \u001b[0mengine\u001b[0m\u001b[1;33m,\u001b[0m \u001b[0mif_exists\u001b[0m\u001b[1;33m=\u001b[0m\u001b[1;34m'append'\u001b[0m\u001b[1;33m,\u001b[0m \u001b[0mindex\u001b[0m \u001b[1;33m=\u001b[0m \u001b[1;32mTrue\u001b[0m\u001b[1;33m)\u001b[0m\u001b[1;33m\u001b[0m\u001b[1;33m\u001b[0m\u001b[0m\n\u001b[0;32m      5\u001b[0m \u001b[0mpd\u001b[0m\u001b[1;33m.\u001b[0m\u001b[0mread_sql_query\u001b[0m\u001b[1;33m(\u001b[0m\u001b[1;34m'select * from restaurant_data'\u001b[0m\u001b[1;33m,\u001b[0m \u001b[0mcon\u001b[0m \u001b[1;33m=\u001b[0m \u001b[0mengine\u001b[0m\u001b[1;33m)\u001b[0m\u001b[1;33m.\u001b[0m\u001b[0mhead\u001b[0m\u001b[1;33m(\u001b[0m\u001b[1;33m)\u001b[0m\u001b[1;33m\u001b[0m\u001b[1;33m\u001b[0m\u001b[0m\n",
      "\u001b[1;31mNameError\u001b[0m: name 'create_engine' is not defined"
     ]
    }
   ],
   "source": [
    "# Load data into Postgres\n",
    "rds_connection_string = \"postgres@localhost:5433/ProjectTwoDB\"\n",
    "engine = create_engine(f'postgresql://{rds_connection_string}')\n",
    "restaurant_df.to_sql(name = \"restaurant_data\", con = engine, if_exists='append', index = True)\n",
    "pd.read_sql_query('select * from restaurant_data', con = engine).head()"
   ]
  },
  {
   "cell_type": "code",
   "execution_count": null,
   "metadata": {},
   "outputs": [],
   "source": []
  }
 ],
 "metadata": {
  "kernelspec": {
   "display_name": "Python 3",
   "language": "python",
   "name": "python3"
  },
  "language_info": {
   "codemirror_mode": {
    "name": "ipython",
    "version": 3
   },
   "file_extension": ".py",
   "mimetype": "text/x-python",
   "name": "python",
   "nbconvert_exporter": "python",
   "pygments_lexer": "ipython3",
   "version": "3.7.4"
  }
 },
 "nbformat": 4,
 "nbformat_minor": 4
}
