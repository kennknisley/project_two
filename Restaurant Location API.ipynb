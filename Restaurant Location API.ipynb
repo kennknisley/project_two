{
 "cells": [
  {
   "cell_type": "code",
   "execution_count": 1,
   "metadata": {},
   "outputs": [],
   "source": [
    "# Import dependencies\n",
    "import pandas as pd\n",
    "import json\n",
    "import pprint\n",
    "import requests\n",
    "import sys\n",
    "import urllib\n",
    "from config import yelp_key"
   ]
  },
  {
   "cell_type": "code",
   "execution_count": 2,
   "metadata": {},
   "outputs": [],
   "source": [
    "# Set up the basics for calling the Yelp API\n",
    "# https://python.gotrained.com/yelp-fusion-api-tutorial/\n",
    "api_key= yelp_key\n",
    "headers = {'Authorization':'Bearer %s' % api_key}\n",
    "url='https://api.yelp.com/v3/businesses/search'\n",
    "offset = [0,50,100,150,200,250,300,350,400,450,500,550,600,650,700,750,800,850,900]\n",
    "cities = [\"Kansas City MO\", \"St Louis MO\",\"Springfield MO\",\"Columbia MO\",\"Independence MO\",\"Lee's Summit MO\",\"St Joseph MO\",\"St Charles MO\",\"St Peters MO\",\"Blue Springs MO\",\"Joplin MO\",\"Florissant MO\",\"Chesterfield MO\",\"Wentzville MO\",\"Jefferson City MO\",\"Cape Girrardeau MO\",\"Oakville MO\",\"Wildwood MO\",\"University City MO\",\"Liberty MO\"]\n",
    "offset2 = [0,50,100]"
   ]
  },
  {
   "cell_type": "code",
   "execution_count": 3,
   "metadata": {},
   "outputs": [],
   "source": [
    "# Set up empty lists to prepare for the API call\n",
    "restaurant_name = []\n",
    "restaurant_lat = []\n",
    "restaurant_lon = []\n",
    "restaurant_address = []\n",
    "restaurant_state = []\n",
    "loop_check = []\n",
    "response_number = 0"
   ]
  },
  {
   "cell_type": "code",
   "execution_count": 4,
   "metadata": {},
   "outputs": [],
   "source": [
    "# Call the API - Put N/A instead of failing\n",
    "for y in cities:\n",
    "    response_number = 0\n",
    "    for x in offset2:\n",
    "        params = {'location':[y],'price':'1','term':'fast food','limit':50,'offset':[x]}\n",
    "        try:\n",
    "            req=requests.get(url, params=params, headers=headers)\n",
    "            response = req.json()\n",
    "            for x in response[\"businesses\"]:\n",
    "                #print(response[\"businesses\"][response_number][\"name\"])\n",
    "                #print(response[\"businesses\"][response_number][\"coordinates\"][\"latitude\"])\n",
    "                #print(response[\"businesses\"][response_number][\"coordinates\"][\"longitude\"])\n",
    "                try:\n",
    "                    restaurant_name.append(response[\"businesses\"][response_number][\"name\"])\n",
    "                except:\n",
    "                    restaurant_name.append(\"N/A\")\n",
    "\n",
    "                try:\n",
    "                    restaurant_lat.append(response[\"businesses\"][response_number][\"coordinates\"][\"latitude\"])\n",
    "                except:\n",
    "                    restaurant_lat.append(\"N/A\")\n",
    "\n",
    "                try:\n",
    "                    restaurant_lon.append(response[\"businesses\"][response_number][\"coordinates\"][\"longitude\"])\n",
    "                except:\n",
    "                    restaurant_lon.append(\"N/A\")\n",
    "\n",
    "                try:\n",
    "                    restaurant_address.append(response[\"businesses\"][response_number][\"location\"][\"display_address\"])\n",
    "                except:\n",
    "                    restaurant_address.append(\"N/A\")\n",
    "\n",
    "                try:\n",
    "                    restaurant_state.append(response[\"businesses\"][response_number][\"location\"][\"state\"])\n",
    "                    loop_check.append([y])\n",
    "                except:\n",
    "                    restaurant_state.append(\"N/A\")\n",
    "                    loop_check.append([y])\n",
    "\n",
    "                if response_number == 49:\n",
    "                    response_number = 0\n",
    "                else: \n",
    "                    response_number = response_number + 1\n",
    "        except:\n",
    "            restaurant_name.append(\"N/A\")\n",
    "            restaurant_lat.append(\"N/A\")\n",
    "            restaurant_lon.append(\"N/A\")\n",
    "            restaurant_address.append(\"N/A\")\n",
    "            restaurant_state.append(\"N/A\")"
   ]
  },
  {
   "cell_type": "code",
   "execution_count": 5,
   "metadata": {},
   "outputs": [
    {
     "data": {
      "text/plain": [
       "name         2045\n",
       "latitude     2045\n",
       "longitude    2045\n",
       "address      2045\n",
       "state        2045\n",
       "loopcheck    2045\n",
       "dtype: int64"
      ]
     },
     "execution_count": 5,
     "metadata": {},
     "output_type": "execute_result"
    }
   ],
   "source": [
    "# Load into a dataframe\n",
    "# https://pandas.pydata.org/pandas-docs/stable/reference/api/pandas.DataFrame.html\n",
    "d = {'name':restaurant_name, 'latitude':restaurant_lat,'longitude':restaurant_lon,'address':restaurant_address,'state':restaurant_state,'loopcheck':loop_check}\n",
    "restaurant_df = pd.DataFrame(data=d)\n",
    "restaurant_df.count()"
   ]
  },
  {
   "cell_type": "code",
   "execution_count": 6,
   "metadata": {},
   "outputs": [],
   "source": [
    "# Save to CSV\n",
    "restaurant_df.to_csv(\"restaurant_data.csv\",index=True,header=True)"
   ]
  },
  {
   "cell_type": "code",
   "execution_count": 7,
   "metadata": {},
   "outputs": [],
   "source": [
    "# Filter down to unique\n",
    "cleaned_restaurant_df = pd.read_csv(\"restaurant_data.csv\")\n",
    "cleaned_restaurant_df = cleaned_restaurant_df.drop_duplicates(subset= \"address\", keep = \"first\")\n",
    "cleaned_restaurant_df.to_csv(\"cleaned_restaurant_data.csv\", index = True, header = True)"
   ]
  },
  {
   "cell_type": "code",
   "execution_count": 8,
   "metadata": {},
   "outputs": [],
   "source": [
    "# # Load data into Postgres\n",
    "# rds_connection_string = \"postgres@localhost:5433/ProjectTwoDB\"\n",
    "# engine = create_engine(f'postgresql://{rds_connection_string}')\n",
    "# restaurant_df.to_sql(name = \"restaurant_data\", con = engine, if_exists='append', index = True)\n",
    "# pd.read_sql_query('select * from restaurant_data', con = engine).head()"
   ]
  }
 ],
 "metadata": {
  "kernelspec": {
   "display_name": "Python 3",
   "language": "python",
   "name": "python3"
  },
  "language_info": {
   "codemirror_mode": {
    "name": "ipython",
    "version": 3
   },
   "file_extension": ".py",
   "mimetype": "text/x-python",
   "name": "python",
   "nbconvert_exporter": "python",
   "pygments_lexer": "ipython3",
   "version": "3.7.4"
  }
 },
 "nbformat": 4,
 "nbformat_minor": 4
}
