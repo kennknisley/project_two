{
 "cells": [
  {
   "cell_type": "code",
   "execution_count": 1,
   "metadata": {},
   "outputs": [],
   "source": [
    "import pymongo\n",
    "import pandas as pd\n",
    "import csv\n",
    "import json"
   ]
  },
  {
   "cell_type": "code",
   "execution_count": 2,
   "metadata": {},
   "outputs": [],
   "source": [
    "conn = 'mongodb://localhost:27017'\n",
    "client = pymongo.MongoClient(conn)\n",
    "db = client.ProjectTwoDB"
   ]
  },
  {
   "cell_type": "code",
   "execution_count": 3,
   "metadata": {},
   "outputs": [],
   "source": [
    "collection = db.cleaned_restaurant_data\n",
    "csvfile = open('cleaned_restaurant_data.csv', 'r')\n",
    "reader = csv.DictReader(csvfile)\n",
    "header = [\"\", \"name\", \"latitude\", \"longitude\", \"address\", \"state\", \"loopcheck\"]\n",
    "\n",
    "for each in reader:\n",
    "    row={}\n",
    "    for field in header:\n",
    "        row[field]=each[field]\n",
    "    collection.insert_one(row)"
   ]
  },
  {
   "cell_type": "code",
   "execution_count": 4,
   "metadata": {},
   "outputs": [],
   "source": [
    "collection = db.mo_data\n",
    "csvfile = open('mo_data.csv','r')\n",
    "reader = csv.DictReader(csvfile)\n",
    "header = [\"\", \"Year\",\"State\",\"CountyID\",\"County\",\"All AgesinPovertyCount\",\"AllAgesinPovertyPercent\",\"LaborForce\",\"Employed\",\"Unemployed\",\"Unemployment Rate\"]\n",
    "\n",
    "for each in reader:\n",
    "    row={}\n",
    "    for field in header:\n",
    "        row[field]=each[field]\n",
    "    collection.insert_one(row)"
   ]
  },
  {
   "cell_type": "code",
   "execution_count": 5,
   "metadata": {},
   "outputs": [],
   "source": [
    "collection = db.poverty\n",
    "csvfile = open('poverty.csv','r')\n",
    "reader = csv.DictReader(csvfile)\n",
    "header = [\"Year\",\"State\",\"County ID\",\"State / County Name\",\"All Ages SAIPE Poverty Universe\",\"All Ages in Poverty Count\",\"All Ages in Poverty Count LB 90%\",\"All Ages in Poverty Count UB 90%\",\"90% Confidence Interval (All Ages in Poverty Count)\",\"All Ages in Poverty Percent\",\"All Ages in Poverty Percent LB 90%\",\"All Ages in Poverty Percent UB 90%\",\"90% Confidence Interval (All Ages in Poverty Percent)\",\"Under Age 18 SAIPE Poverty Universe\",\"Under Age 18 in Poverty Count\",\"Under Age 18 in Poverty Count LB 90%\",\"Under Age 18 in Poverty Count UB 90%\",\"90% Confidence Interval (Under Age 18 in Poverty Count)\",\"Under Age 18 in Poverty Percent\",\"Under Age 18 in Poverty Percent LB 90%\",\"Under Age 18 in Poverty Percent UB 90%\",\"90% Confidence Interval (Under Age 18 in Poverty Percent)\",\"Ages 5 to 17 in Families SAIPE Poverty Universe\",\"Ages 5 to 17 in Families in Poverty Count\",\"Ages 5 to 17 in Families in Poverty Count LB 90%\",\"Ages 5 to 17 in Families in Poverty Count UB 90%\",\"90% Confidence Interval (Ages 5 to 17 in Families in Poverty Count)\",\"Ages 5 to 17 in Families in Poverty Percent\",\"Ages 5 to 17 in Families in Poverty Percent LB 90%\",\"Ages 5 to 17 in Families in Poverty Percent UB 90%\",\"90% Confidence Interval (Ages 5 to 17 in Families in Poverty Percent)\",\"Under Age 5 SAIPE Poverty Universe\",\"Under Age 5 in Poverty Count\",\"Under Age 5 in Poverty Count LB 90%\",\"Under Age 5 in Poverty Count UB 90%\",\"90% Confidence Interval (Under Age 5 in Poverty Count)\",\"Under Age 5 in Poverty Percent\",\"Under Age 5 in Poverty Percent LB 90%\",\"Under Age 5 in Poverty Percent UB 90%\",\"90% Confidence Interval (Under Age 5 in Poverty Percent)\",\"Median Household Income in Dollars\",\"Median Household Income in Dollars LB 90%\",\"Median Household Income in Dollars UB 90%\",\"90% Confidence Interval (Median Household Income in Dollars)\"]\n",
    "\n",
    "for each in reader:\n",
    "    row={}\n",
    "    for field in header:\n",
    "        row[field]=each[field]\n",
    "    collection.insert_one(row)"
   ]
  },
  {
   "cell_type": "code",
   "execution_count": 3,
   "metadata": {},
   "outputs": [
    {
     "ename": "KeyError",
     "evalue": "'LAUS Code'",
     "output_type": "error",
     "traceback": [
      "\u001b[1;31m---------------------------------------------------------------------------\u001b[0m",
      "\u001b[1;31mKeyError\u001b[0m                                  Traceback (most recent call last)",
      "\u001b[1;32m<ipython-input-3-898a2a035f56>\u001b[0m in \u001b[0;36m<module>\u001b[1;34m\u001b[0m\n\u001b[0;32m      7\u001b[0m     \u001b[0mrow\u001b[0m \u001b[1;33m=\u001b[0m \u001b[1;33m{\u001b[0m\u001b[1;33m}\u001b[0m\u001b[1;33m\u001b[0m\u001b[1;33m\u001b[0m\u001b[0m\n\u001b[0;32m      8\u001b[0m     \u001b[1;32mfor\u001b[0m \u001b[0mfield\u001b[0m \u001b[1;32min\u001b[0m \u001b[0mheader\u001b[0m\u001b[1;33m:\u001b[0m\u001b[1;33m\u001b[0m\u001b[1;33m\u001b[0m\u001b[0m\n\u001b[1;32m----> 9\u001b[1;33m         \u001b[0mrow\u001b[0m\u001b[1;33m[\u001b[0m\u001b[0mfield\u001b[0m\u001b[1;33m]\u001b[0m\u001b[1;33m=\u001b[0m\u001b[0meach\u001b[0m\u001b[1;33m[\u001b[0m\u001b[0mfield\u001b[0m\u001b[1;33m]\u001b[0m\u001b[1;33m\u001b[0m\u001b[1;33m\u001b[0m\u001b[0m\n\u001b[0m\u001b[0;32m     10\u001b[0m     \u001b[0mcollection\u001b[0m\u001b[1;33m.\u001b[0m\u001b[0minsert_one\u001b[0m\u001b[1;33m(\u001b[0m\u001b[0mrow\u001b[0m\u001b[1;33m)\u001b[0m\u001b[1;33m\u001b[0m\u001b[1;33m\u001b[0m\u001b[0m\n",
      "\u001b[1;31mKeyError\u001b[0m: 'LAUS Code'"
     ]
    }
   ],
   "source": [
    "collection = db.unemployment\n",
    "csvfile = open('unemployment.csv','r')\n",
    "reader = csv.DictReader(csvfile)\n",
    "header = [\"LAUS Code\",\"State Code\",\"County Code\",\"County Name/State Abbreviation\",\"Year\",\"Labor Force\",\"Employed\",\"Unemployed\",\"Unemployment Rate(%)\",\"County ID\"]\n",
    "\n",
    "for each in reader:\n",
    "    row = {}\n",
    "    for field in header:\n",
    "        row[field]=each[field]\n",
    "    collection.insert_one(row)"
   ]
  },
  {
   "cell_type": "code",
   "execution_count": null,
   "metadata": {},
   "outputs": [],
   "source": []
  }
 ],
 "metadata": {
  "kernelspec": {
   "display_name": "Python 3",
   "language": "python",
   "name": "python3"
  },
  "language_info": {
   "codemirror_mode": {
    "name": "ipython",
    "version": 3
   },
   "file_extension": ".py",
   "mimetype": "text/x-python",
   "name": "python",
   "nbconvert_exporter": "python",
   "pygments_lexer": "ipython3",
   "version": "3.7.4"
  }
 },
 "nbformat": 4,
 "nbformat_minor": 2
}
