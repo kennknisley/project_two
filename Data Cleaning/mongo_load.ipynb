{
 "cells": [
  {
   "cell_type": "code",
   "execution_count": 1,
   "metadata": {},
   "outputs": [],
   "source": [
    "import pymongo\n",
    "import pandas as pd\n",
    "import csv\n",
    "import json\n",
    "from splinter import Browser\n",
    "import time\n",
    "from bs4 import BeautifulSoup as bs\n"
   ]
  },
  {
   "cell_type": "code",
   "execution_count": 2,
   "metadata": {},
   "outputs": [],
   "source": [
    "conn = 'mongodb://localhost:27017'\n",
    "client = pymongo.MongoClient(conn)\n",
    "db = client.ProjectTwoDB"
   ]
  },
  {
   "cell_type": "code",
   "execution_count": 3,
   "metadata": {},
   "outputs": [],
   "source": [
    "collection = db.cleaned_restaurant_data\n",
    "csvfile = open('../Resources/cleaned_restaurant_data.csv', 'r')\n",
    "reader = csv.DictReader(csvfile)\n",
    "header = [\"\", \"name\", \"latitude\", \"longitude\", \"address\", \"state\", \"loopcheck\"]\n",
    "\n",
    "for each in reader:\n",
    "    row={}\n",
    "    for field in header:\n",
    "        row[field]=each[field]\n",
    "    collection.insert_one(row)"
   ]
  },
  {
   "cell_type": "code",
   "execution_count": 5,
   "metadata": {},
   "outputs": [],
   "source": [
    "collection = db.mo_data\n",
    "csvfile = open('../Resources/mo_data.csv','r')\n",
    "reader = csv.DictReader(csvfile)\n",
    "header = [\"\", \"Year\",\"State\",\"CountyID\",\"County\",\"AllAgesinPovertyCount\",\"AllAgesinPovertyPercent\",\"LaborForce\",\"Employed\",\"Unemployed\",\"UnemploymentRate\"]\n",
    "\n",
    "for each in reader:\n",
    "    row={}\n",
    "    for field in header:\n",
    "        row[field]=each[field]\n",
    "    collection.insert_one(row)"
   ]
  },
  {
   "cell_type": "code",
   "execution_count": 3,
   "metadata": {},
   "outputs": [],
   "source": [
    "executable_path = {'executable_path': '/usr/local/bin/chromedriver'}\n",
    "browser = Browser('chrome', **executable_path, headless=True)"
   ]
  },
  {
   "cell_type": "code",
   "execution_count": 4,
   "metadata": {},
   "outputs": [],
   "source": [
    "url=\"https://www.povertyusa.org/facts\"\n",
    "browser.visit(url)\n",
    "time.sleep(1)\n",
    "html=browser.html\n",
    "soup=bs(html, 'html.parser')"
   ]
  },
  {
   "cell_type": "code",
   "execution_count": 6,
   "metadata": {},
   "outputs": [],
   "source": [
    "paragraphs=soup.find_all('p')\n",
    "facts_dict={}\n",
    "\n",
    "for x in range(2,12):\n",
    "    if (len(paragraphs[x].text)>2):\n",
    "        fact=paragraphs[x].text\n",
    "        facts_dict[f'Fact_{x}']=fact\n",
    "# collection = db.facts\n",
    "# collection.insert_many(facts_dict)"
   ]
  },
  {
   "cell_type": "code",
   "execution_count": 7,
   "metadata": {},
   "outputs": [
    {
     "data": {
      "text/plain": [
       "{'Fact_2': 'Poverty does not strike all demographics equally. For example, in 2018, 10.6% of men, and 12.9% of women lived in Poverty USA. Along the same lines, the poverty rate for married couples in 2018 was only 4.7% - but the poverty rate for single-parent families with no wife present was 12.7%, and for single-parent families with no husband present was 24.9%.',\n",
       " 'Fact_3': 'In 2018, the poverty rate for people living with a disability was 25.7%. That’s nearly 4 million people living with a disability—in poverty.',\n",
       " 'Fact_5': 'In 2018, 16.2% of all children (11.9 million kids) lived in Poverty USA—that’s almost 1 in every 6 children.',\n",
       " 'Fact_6': 'In 2015, the National Center on Family Homelessness analyzed state-level data and found that nationwide, 2.5 million children experience homelessness in a year.',\n",
       " 'Fact_8': 'Though the official census data gives seniors a 2018 poverty rate of only 9.7%, the Supplemental Poverty Measure, which accounts for expenses such as the rising costs of health care, raises the senior poverty rate to 14.1%.',\n",
       " 'Fact_10': 'According to 2018 US Census Data, the highest poverty rate by race is found among Native Americans (25.4%), with Blacks (20.8%) having the second highest poverty rate, and\\xa0Hispanics (of any race) having the third\\xa0highest poverty rate (17.6%). Whites had a poverty rate of 10.1%, while Asians had a poverty rate at 10.1%.',\n",
       " 'Fact_11': 'Poverty thresholds are determined by the US government, and vary according to the size of a family, and the ages of its members. In 2018, the poverty threshold—also known as the poverty line—for an individual was $12,784. For two people, the weighted average threshold was $16,247.'}"
      ]
     },
     "execution_count": 7,
     "metadata": {},
     "output_type": "execute_result"
    }
   ],
   "source": [
    "facts_dict"
   ]
  },
  {
   "cell_type": "code",
   "execution_count": null,
   "metadata": {},
   "outputs": [],
   "source": []
  }
 ],
 "metadata": {
  "kernelspec": {
   "display_name": "Python [conda env:PythonData] *",
   "language": "python",
   "name": "conda-env-PythonData-py"
  },
  "language_info": {
   "codemirror_mode": {
    "name": "ipython",
    "version": 3
   },
   "file_extension": ".py",
   "mimetype": "text/x-python",
   "name": "python",
   "nbconvert_exporter": "python",
   "pygments_lexer": "ipython3",
   "version": "3.6.10"
  }
 },
 "nbformat": 4,
 "nbformat_minor": 2
}
