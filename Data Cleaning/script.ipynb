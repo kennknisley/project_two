{
 "cells": [
  {
   "cell_type": "code",
   "execution_count": 2,
   "metadata": {},
   "outputs": [],
   "source": [
    "# Import dependencies\n",
    "import pandas as pd\n",
    "import json\n",
    "import pprint\n",
    "import sys\n",
    "import urllib\n",
    "from bs4 import BeautifulSoup as bs\n",
    "import time\n",
    "import requests\n",
    "import pymongo\n",
    "from splinter import Browser\n",
    "import json\n",
    "import numpy as np\n",
    "import plotly.express as px\n",
    "# from config import yelp_key"
   ]
  },
  {
   "cell_type": "code",
   "execution_count": null,
   "metadata": {},
   "outputs": [],
   "source": [
    "# Set up the basics for calling the Yelp API\n",
    "# https://python.gotrained.com/yelp-fusion-api-tutorial/\n",
    "# Cities gathered from https://en.wikipedia.org/wiki/List_of_municipalities_in_Missouri\n",
    "yelp_key = \"xOIRKCHjHkBJKYhXXIFtROFa8FVcVAYB63jdcF-DqiR5BT16M67ZR0gYqlwtiCWZLCG0Rh1xoeTb0FAdJFiEllZI463MC3M8DwfENshTGKmfWDVWoi-2binUNC3DXnYx\"\n",
    "api_key= yelp_key\n",
    "headers = {'Authorization':'Bearer %s' % api_key}\n",
    "url='https://api.yelp.com/v3/businesses/search'\n",
    "offset = [0,50,100,150,200,250,300,350,400,450,500,550,600,650,700,750,800,850,900]\n",
    "cities = [\"Kansas City MO\",\"St. Louis MO\",\"Springfield MO\",\"Independence MO\",\n",
    "          \"Columbia MO\",\"Lee's Summit MO\",\"O'Fallon MO\",\"St. Joseph MO\",\n",
    "          \"St. Charles MO\",\"Blue Springs MO\",\"St. Peters MO\",\"Florissant MO\",\n",
    "          \"Joplin MO\",\"Chesterfield MO\",\"Jefferson City MO\",\"Cape Girardeau MO\",\n",
    "          \"Oakville MO\",\"Wildwood MO\",\"University City MO\",\"Ballwin MO\",\"Raytown MO\",\n",
    "          \"Liberty MO\",\"Wentzville MO\",\"Mehlville MO\",\"Kirkwood MO\",\"Maryland Heights MO\",\n",
    "          \"Hazelwood MO\",\"Gladstone MO\",\"Grandview MO\",\"Belton MO\",\"Webster Groves MO\",\n",
    "          \"Sedalia MO\",\"Ferguson MO\",\"Arnold MO\",\"Affton MO\",\"Spanish Lake MO\",\n",
    "          \"Rolla MO\",\"Raymore MO\",\"Old Jamestown MO\",\"Nixa MO\",\"Warrensburg MO\",\n",
    "          \"Manchester MO\",\"Hannibal MO\",\"Creve Coeur MO\",\"Ozark MO\",\"Kirksville MO\",\n",
    "          \"Poplar Bluff MO\",\"Lemay MO\",\"Concord MO\",\"Sikeston MO\",\"Farmington MO\",\n",
    "          \"Overland MO\",\"Clayton MO\",\"Fort Leonard Wood MO\",\"Republican MO\",\n",
    "          \"Jennings MO\",\"Lake St. Louis MO\",\"Lebanon MO\",\"Carthage MO\",\n",
    "          \"Washington MO\",\"Moberly MO\",\"Jackson MO\",\"Marshall MO\",\n",
    "          \"St. Ann MO\",\"Grain Valley MO\",\"Fulton MO\",\"West Plains MO\",\n",
    "          \"Maryville MO\",\"Crestwood MO\",\"Neosho MO\",\"Festus MO\",\n",
    "          \"Bridgeton MO\",\"Mexico MO\",\"Dardenne Prairie MO\",\n",
    "          \"Excelsior Springs MO\",\"Webb City MO\",\"Kennett MO\",\n",
    "          \"Bellefontaine Neighbors MO\",\"Town and Country MO\",\n",
    "          \"Troy MO\",\"Branson MO\",\"Bolivar MO\",\"Union MO\",\"Eureka MO\",\n",
    "          \"Harrisonville MO\",\"Cameron MO\",\"Chillicothe MO\",\"Ellisville MO\",\"Clinton MO\",\n",
    "          \"Berkeley MO\",\"Monett MO\",\"Park Hills MO\",\"Murphy MO\",\"Richmond Heights MO\",\n",
    "          \"Ladue MO\",\"Sunset Hills MO\",\"Smithville MO\",\"Nevada MO\",\"Kearney MO\",\n",
    "          \"Des Peres MO\",\"Boonville MO\",\"Perryville MO\",\"Pleasant Hill MO\",\n",
    "          \"Brentwood MO\",\"Maplewood MO\",\"Warrenton MO\",\"Dexter MO\",\"Oak Grove MO\",\n",
    "          \"Olivette MO\",\"Sappington MO\",\"Aurora MO\",\"Carl Junction MO\",\"Sullivan MO\",\n",
    "          \"Pacific MO\",\"Valley Park MO\",\"Black Jack MO\",\"Bonne Terre MO\",\"Marshfield MO\",\n",
    "          \"St. John MO\",\"De Soto MO\",\"Shrewsbury MO\",\"Caruthersville MO\",\"Trenton MO\",\n",
    "          \"Charleston MO\",\"Glendale MO\",\"Richmond MO\",\"Barnhart MO\",\"Battlefield MO\",\n",
    "          \"Parkville MO\",\"Pevely MO\",\"Macon MO\",\"Weldon Spring MO\",\"Glasgow Village MO\",\n",
    "          \"Bowling Green MO\",\"Odessa MO\",\"Willard MO\",\"Greenwood MO\",\"Savannah MO\",\n",
    "          \"Desloge MO\",\"Dellwood MO\",\"Normandy MO\",\"Salem MO\",\"Crystal City MO\",\n",
    "          \"Waynesville MO\",\"Higginsville MO\",\"Mountain Grove MO\",\"Breckenridge Hills MO\",\n",
    "          \"Lexington MO\",\"St. Clair MO\",\"Imperial MO\",\"Platte City MO\",\"Rock Hill MO\",\n",
    "          \"Peculiar MO\",\"Mount Vernon MO\",\"Eldon MO\",\"Scott City MO\",\"Brookfield MO\",\n",
    "          \"Lamar MO\",\"Hollister MO\",\"Ste. Genevieve MO\",\"Osage Beach MO\",\"St. Robert MO\",\n",
    "          \"High Ridge MO\",\"California MO\",\"Malden MO\",\"Northwoods MO\",\"Butler MO\",\n",
    "          \"St. James MO\",\"North Kansas City MO\",\"Woodson Terrace MO\",\"Centralia MO\",\n",
    "          \"Fenton MO\",\"Fredericktown MO\",\"Castle Point MO\",\"Vandalia MO\",\"Carrollton MO\",\n",
    "          \"Camdenton MO\",\"Ashland MO\",\"Palmyra MO\",\"El Dorado Springs MO\",\"Frontenac MO\",\n",
    "          \"Herculaneum MO\",\"Louisiana MO\",\"Cuba MO\",\"Sugar Creek MO\",\"Pagedale MO\",\n",
    "          \"Bethany MO\",\"Pine Lawn MO\",\"Cassville MO\",\"Tipton MO\",\"Holts Summit MO\",\n",
    "          \"Portageville MO\",\"East Prairie MO\",\"Licking MO\",\"Wright City MO\",\n",
    "          \"New Madrid MO\",\"Buffalo MO\",\"Buckner MO\",\"Cottleville MO\",\"Rogersville MO\",\n",
    "          \"Ava MO\",\"Pleasant Valley MO\",\"Chaffee MO\",\"Hayti MO\",\"Riverside MO\",\n",
    "          \"Windsor MO\",\"Riverview MO\",\"Montgomery City MO\",\"Hillsboro MO\",\"Byrnes Mill MO\",\n",
    "          \"Bel-Ridge MO\",\"Mountain View MO\",\"Knob Noster MO\",\"Gray Summit MO\",\"Fayette MO\",\n",
    "          \"Owensville MO\",\"Potosi MO\",\"Villa Ridge MO\",\"Clarkson Valley MO\",\n",
    "          \"Green Park MO\",\"Whiteman AFB MO\",\"Monroe MO\",\"Moscow Mills MO\",\"Versailles MO\",\n",
    "          \"Lawson MO\",\"Concordia MO\",\"Country Club MO\",\"Moline Acres MO\",\"Hermann MO\",\n",
    "          \"Kimberling City MO\",\"Oronogo MO\",\"Canton MO\",\"Strafford MO\",\"Seneca MO\",\n",
    "          \"Terre du Lac MO\",\"Plattsburg MO\",\"Wellston MO\",\"Forsyth MO\",\"Holden MO\",\n",
    "          \"Thayer MO\",\"Marceline MO\",\"Marionville MO\",\"Village of Four Seasons MO\",\n",
    "          \"Willow Springs MO\",\"Marlborough MO\",\"Steele MO\",\"Cabool MO\",\"Clever MO\",\n",
    "          \"Granby MO\",\"Warsaw MO\",\"Hanley Hills MO\",\"New Haven MO\",\"Lathrop MO\",\n",
    "          \"Houston MO\",\"Kahoka MO\",\"Doniphan MO\",\"Campbell MO\",\"Piedmont MO\",\n",
    "          \"Warson Woods MO\",\"Anderson MO\",\"Milan MO\",\"Bernie MO\",\"Lake Lotawana MO\",\n",
    "          \"Elsberry MO\",\"Bloomfield MO\",\"Seymour MO\",\"Carterville MO\",\"Vinita Park MO\",\n",
    "          \"Unionville MO\",\"Richland MO\",\"Slater MO\",\"Noel MO\",\"St. Paul MO\",\"Memphis MO\",\n",
    "          \"Stockton MO\",\"Hamilton MO\",\"Gallatin MO\",\"Senath MO\",\"Duquesne MO\",\n",
    "          \"Merriam Woods MO\",\"Sparta MO\",\"Albany MO\",\"Weatherby Lake MO\",\n",
    "          \"Cedar Hill MO\",\"Shelbina MO\",\"Adrian MO\",\"Garden City MO\",\"Steelville MO\",\n",
    "          \"Weston MO\",\"Bourbon MO\",\"Salisbury MO\",\"Lake Ozark MO\",\"Tarkio MO\",\n",
    "          \"Huntsville MO\",\"LaBarque Creek MO\",\"Dixon MO\",\"Winchester MO\",\"Bismarck MO\",\n",
    "          \"Belle MO\",\"Gower MO\",\"Wardsville MO\",\"Bel-Nor MO\",\"Hallsville MO\",\n",
    "          \"Sweet Springs MO\",\"Hillsdale MO\",\"Marble Hill MO\",\"Ash Grove MO\",\"Crane MO\",\n",
    "          \"Ironton MO\",\"Linn MO\",\"Lakeshire MO\",\"Claycomo MO\",\"Velda City MO\",\n",
    "          \"Winfield MO\",\"Rich Hill MO\",\"Fair Grove MO\",\"Oakland MO\",\"Shell Knob MO\",\n",
    "          \"Greenfield MO\",\"La Plata MO\",\"Charlack MO\",\"Advance MO\",\"Gerald MO\",\n",
    "          \"St. George MO\",\"Winona MO\",\"Sarcoxie MO\",\"Rock Port MO\",\"Mansfield MO\",\n",
    "          \"Oran MO\",\"Calverton Park MO\",\"Pierce City MO\",\"Clarkton MO\",\"Leadwood MO\",\n",
    "          \"Country Club Hills MO\",\"Goodman MO\",\"Paris MO\",\"Wellsville MO\",\n",
    "          \"Cool Valley MO\",\"Lilbourn MO\",\"Lincoln MO\",\"Stanberry MO\",\"Edina MO\",\n",
    "          \"Archie MO\",\"Princeton MO\",\"Mound City MO\",\"La Monte MO\",\"Marthasville MO\",\n",
    "          \"Lake Winnebago MO\",\"Appleton City MO\",\"Cole Camp MO\",\"Duenweg MO\",\n",
    "          \"Maysville MO\",\"Crocker MO\",\"Kissee Mills MO\",\"Glasgow MO\",\"Purdy MO\",\n",
    "          \"Stover MO\",\"Gideon MO\",\"New Franklin MO\",\"Velda Village Hills MO\",\n",
    "          \"Lone Jack MO\",\"Humansville MO\",\"Billings MO\",\"King City MO\"]\n",
    "offset2 = [0,50,100]"
   ]
  },
  {
   "cell_type": "code",
   "execution_count": null,
   "metadata": {},
   "outputs": [],
   "source": [
    "# Set up empty lists to prepare for the API call\n",
    "restaurant_name = []\n",
    "restaurant_lat = []\n",
    "restaurant_lon = []\n",
    "restaurant_address = []\n",
    "restaurant_state = []\n",
    "loop_check = []\n",
    "response_number = 0"
   ]
  },
  {
   "cell_type": "code",
   "execution_count": null,
   "metadata": {},
   "outputs": [],
   "source": [
    "# Call the API - Put N/A instead of failing\n",
    "for y in cities:\n",
    "    response_number = 0\n",
    "    for x in offset2:\n",
    "        params = {'location':[y],'price':'1','term':'fast food','limit':50,'offset':[x]}\n",
    "        try:\n",
    "            req=requests.get(url, params=params, headers=headers)\n",
    "            response = req.json()\n",
    "            for x in response[\"businesses\"]:\n",
    "                #print(response[\"businesses\"][response_number][\"name\"])\n",
    "                #print(response[\"businesses\"][response_number][\"coordinates\"][\"latitude\"])\n",
    "                #print(response[\"businesses\"][response_number][\"coordinates\"][\"longitude\"])\n",
    "                try:\n",
    "                    restaurant_name.append(response[\"businesses\"][response_number][\"name\"])\n",
    "                except:\n",
    "                    restaurant_name.append(\"N/A\")\n",
    "\n",
    "                try:\n",
    "                    restaurant_lat.append(response[\"businesses\"][response_number][\"coordinates\"][\"latitude\"])\n",
    "                except:\n",
    "                    restaurant_lat.append(\"N/A\")\n",
    "\n",
    "                try:\n",
    "                    restaurant_lon.append(response[\"businesses\"][response_number][\"coordinates\"][\"longitude\"])\n",
    "                except:\n",
    "                    restaurant_lon.append(\"N/A\")\n",
    "\n",
    "                try:\n",
    "                    restaurant_address.append(response[\"businesses\"][response_number][\"location\"][\"display_address\"])\n",
    "                except:\n",
    "                    restaurant_address.append(\"N/A\")\n",
    "\n",
    "                try:\n",
    "                    restaurant_state.append(response[\"businesses\"][response_number][\"location\"][\"state\"])\n",
    "                    loop_check.append([y])\n",
    "                except:\n",
    "                    restaurant_state.append(\"N/A\")\n",
    "                    loop_check.append([y])\n",
    "\n",
    "                if response_number == 49:\n",
    "                    response_number = 0\n",
    "                else: \n",
    "                    response_number = response_number + 1\n",
    "        except:\n",
    "            restaurant_name.append(\"N/A\")\n",
    "            restaurant_lat.append(\"N/A\")\n",
    "            restaurant_lon.append(\"N/A\")\n",
    "            restaurant_address.append(\"N/A\")\n",
    "            restaurant_state.append(\"N/A\")"
   ]
  },
  {
   "cell_type": "code",
   "execution_count": null,
   "metadata": {},
   "outputs": [],
   "source": [
    "# Load into a dataframe\n",
    "# https://pandas.pydata.org/pandas-docs/stable/reference/api/pandas.DataFrame.html\n",
    "d = {'name':restaurant_name, 'latitude':restaurant_lat,'longitude':restaurant_lon,'address':restaurant_address,'state':restaurant_state,'loopcheck':loop_check}\n",
    "restaurant_df = pd.DataFrame(data=d)"
   ]
  },
  {
   "cell_type": "code",
   "execution_count": null,
   "metadata": {},
   "outputs": [],
   "source": [
    "# Save to CSV\n",
    "restaurant_df.to_csv(\"../Resources/restaurant_data.csv\",index=True,header=True)"
   ]
  },
  {
   "cell_type": "code",
   "execution_count": 13,
   "metadata": {},
   "outputs": [],
   "source": [
    "# Filter down to unique\n",
    "cleaned_restaurant_df = pd.read_csv(\"../Resources/restaurant_data.csv\")\n",
    "cleaned_restaurant_df = cleaned_restaurant_df.drop_duplicates(subset= \"address\", keep = \"first\")"
   ]
  },
  {
   "cell_type": "code",
   "execution_count": 14,
   "metadata": {},
   "outputs": [],
   "source": [
    "cleaned_restaurant_df['address'] = cleaned_restaurant_df['address'].str.strip('[]')\n",
    "cleaned_restaurant_df['loopcheck'] = cleaned_restaurant_df['loopcheck'].str.strip('[]')\n",
    "cleaned_restaurant_df['address'] = cleaned_restaurant_df['address'].str.strip(\"'\")\n",
    "cleaned_restaurant_df['address'] = cleaned_restaurant_df['address'].str.replace(r\"[\\\"\\',]\", '')\n",
    "cleaned_restaurant_df['loopcheck'] = cleaned_restaurant_df['loopcheck'].str.replace(r\"[\\\"\\',]\", '')\n",
    "cleaned_restaurant_df = cleaned_restaurant_df.reset_index(drop=True)\n",
    "cleaned_restaurant_df = cleaned_restaurant_df.drop(columns=['Unnamed: 0'])\n",
    "cleaned_restaurant_df = cleaned_restaurant_df.loc[cleaned_restaurant_df[\"state\"]==\"MO\",:]\n",
    "cleaned_restaurant_df = cleaned_restaurant_df.reset_index(drop=True)\n",
    "cleaned_restaurant_df.to_csv(\"../Resources/cleaned_restaurant_data.csv\", index = True, header = True)\n"
   ]
  },
  {
   "cell_type": "code",
   "execution_count": 5,
   "metadata": {},
   "outputs": [],
   "source": [
    "poverty_file='../Resources/poverty.csv'\n",
    "poverty_df=pd.read_csv(poverty_file)\n",
    "narrowed_poverty_df=poverty_df[['Year', 'State', 'County ID', 'State / County Name','All Ages in Poverty Count', 'All Ages in Poverty Percent']]\n"
   ]
  },
  {
   "cell_type": "code",
   "execution_count": 6,
   "metadata": {},
   "outputs": [],
   "source": [
    "unemp_file=\"../Resources/unemployment.csv\"\n",
    "unemp_df=pd.read_csv(unemp_file)\n",
    "narrowed_unemp=unemp_df[['County ID','Labor Force','Employed','Unemployed','Unemployment Rate(%)']]\n"
   ]
  },
  {
   "cell_type": "code",
   "execution_count": 4,
   "metadata": {},
   "outputs": [
    {
     "ename": "NameError",
     "evalue": "name 'narrowed_poverty_df' is not defined",
     "output_type": "error",
     "traceback": [
      "\u001b[0;31m---------------------------------------------------------------------------\u001b[0m",
      "\u001b[0;31mNameError\u001b[0m                                 Traceback (most recent call last)",
      "\u001b[0;32m<ipython-input-4-5ccfc7e9cab0>\u001b[0m in \u001b[0;36m<module>\u001b[0;34m\u001b[0m\n\u001b[0;32m----> 1\u001b[0;31m \u001b[0mcombined_df\u001b[0m\u001b[0;34m=\u001b[0m\u001b[0mnarrowed_poverty_df\u001b[0m\u001b[0;34m.\u001b[0m\u001b[0mmerge\u001b[0m\u001b[0;34m(\u001b[0m\u001b[0mnarrowed_unemp\u001b[0m\u001b[0;34m,\u001b[0m\u001b[0mhow\u001b[0m\u001b[0;34m=\u001b[0m\u001b[0;34m'outer'\u001b[0m\u001b[0;34m,\u001b[0m \u001b[0mon\u001b[0m\u001b[0;34m=\u001b[0m\u001b[0;34m'County ID'\u001b[0m\u001b[0;34m)\u001b[0m\u001b[0;34m\u001b[0m\u001b[0;34m\u001b[0m\u001b[0m\n\u001b[0m\u001b[1;32m      2\u001b[0m \u001b[0mmo\u001b[0m\u001b[0;34m=\u001b[0m\u001b[0mcombined_df\u001b[0m\u001b[0;34m[\u001b[0m\u001b[0mcombined_df\u001b[0m\u001b[0;34m[\u001b[0m\u001b[0;34m'State'\u001b[0m\u001b[0;34m]\u001b[0m\u001b[0;34m==\u001b[0m\u001b[0;36m29\u001b[0m\u001b[0;34m]\u001b[0m\u001b[0;34m\u001b[0m\u001b[0;34m\u001b[0m\u001b[0m\n\u001b[1;32m      3\u001b[0m \u001b[0mmo\u001b[0m\u001b[0;34m=\u001b[0m\u001b[0mmo\u001b[0m\u001b[0;34m.\u001b[0m\u001b[0mreset_index\u001b[0m\u001b[0;34m(\u001b[0m\u001b[0mdrop\u001b[0m\u001b[0;34m=\u001b[0m\u001b[0;32mTrue\u001b[0m\u001b[0;34m)\u001b[0m\u001b[0;34m\u001b[0m\u001b[0;34m\u001b[0m\u001b[0m\n\u001b[1;32m      4\u001b[0m mo=mo.rename(columns={'Unemployment Rate(%)':'UnemploymentRate', 'County ID':'CountyID', 'State / County Name':'County',\n\u001b[1;32m      5\u001b[0m                       \u001b[0;34m'All Ages in Poverty Count'\u001b[0m\u001b[0;34m:\u001b[0m\u001b[0;34m'AllAgesinPovertyCount'\u001b[0m\u001b[0;34m,\u001b[0m\u001b[0;34m'All Ages in Poverty Percent'\u001b[0m\u001b[0;34m:\u001b[0m\u001b[0;34m'AllAgesinPovertyPercent'\u001b[0m\u001b[0;34m,\u001b[0m\u001b[0;34m\u001b[0m\u001b[0;34m\u001b[0m\u001b[0m\n",
      "\u001b[0;31mNameError\u001b[0m: name 'narrowed_poverty_df' is not defined"
     ]
    }
   ],
   "source": [
    "combined_df=narrowed_poverty_df.merge(narrowed_unemp,how='outer', on='County ID')\n",
    "mo=combined_df[combined_df['State']==29]\n",
    "mo=mo.reset_index(drop=True)\n",
    "mo=mo.rename(columns={'Unemployment Rate(%)':'UnemploymentRate', 'County ID':'CountyID', 'State / County Name':'County',\n",
    "                      'All Ages in Poverty Count':'AllAgesinPovertyCount','All Ages in Poverty Percent':'AllAgesinPovertyPercent',\n",
    "                     'Labor Force':'LaborForce'})\n",
    "mo_data='../Resources/mo_data.csv'\n",
    "mo.to_csv(mo_data)\n",
    "\n"
   ]
  },
  {
   "cell_type": "code",
   "execution_count": 16,
   "metadata": {},
   "outputs": [
    {
     "data": {
      "text/plain": [
       "Ttest_indResult(statistic=28.746327526153404, pvalue=4.3066809637914987e-78)"
      ]
     },
     "execution_count": 16,
     "metadata": {},
     "output_type": "execute_result"
    }
   ],
   "source": [
    "from scipy import stats \n",
    "mo_data='../Resources/mo_data.csv'\n",
    "mo=pd.read_csv(mo_data)\n",
    "pov=mo['AllAgesinPovertyCount']\n",
    "unemp=mo['Unemployed']\n",
    "stats.ttest_ind(pov, unemp) "
   ]
  },
  {
   "cell_type": "code",
   "execution_count": null,
   "metadata": {},
   "outputs": [],
   "source": []
  }
 ],
 "metadata": {
  "kernelspec": {
   "display_name": "Python [conda env:PythonData] *",
   "language": "python",
   "name": "conda-env-PythonData-py"
  },
  "language_info": {
   "codemirror_mode": {
    "name": "ipython",
    "version": 3
   },
   "file_extension": ".py",
   "mimetype": "text/x-python",
   "name": "python",
   "nbconvert_exporter": "python",
   "pygments_lexer": "ipython3",
   "version": "3.6.10"
  }
 },
 "nbformat": 4,
 "nbformat_minor": 4
}
